{
 "cells": [
  {
   "cell_type": "code",
   "execution_count": 1,
   "metadata": {
    "collapsed": true
   },
   "outputs": [],
   "source": [
    "import os, sys\n",
    "import pandas as pd\n",
    "import numpy as np\n",
    "import xml.etree.ElementTree as ET\n",
    "import glob\n",
    "import matplotlib.pyplot as plt\n",
    "from matplotlib.pyplot import imshow\n",
    "%matplotlib inline"
   ]
  },
  {
   "cell_type": "markdown",
   "metadata": {
    "collapsed": true
   },
   "source": [
    "import sys; sys.path.append(cur_dir + '/ImagPrep/')"
   ]
  },
  {
   "cell_type": "code",
   "execution_count": 5,
   "metadata": {},
   "outputs": [
    {
     "name": "stdout",
     "output_type": "stream",
     "text": [
      "/Users/sasali/Deepworld/CV/LearningObjectDetection\n"
     ]
    }
   ],
   "source": [
    "# list dirs\n",
    "cur_dir = os.getcwd()\n",
    "print(cur_dir)\n",
    "ann_dir = '/Users/sasali/Deepworld/CV/VOC2007/Annotations/'"
   ]
  },
  {
   "cell_type": "code",
   "execution_count": 3,
   "metadata": {},
   "outputs": [],
   "source": [
    "import os, sys\n",
    "import pandas as pd\n",
    "import numpy as np\n",
    "import xml.etree.ElementTree as ET\n",
    "import glob\n",
    "\n",
    "# convert coordinates to ratios relative to the image size\n",
    "def convert(size, box):\n",
    "    \"\"\"\n",
    "    size - (width, height) of the image\n",
    "    box - (xmin, ymin, xmax, ymax) coordinates\n",
    "    \"\"\"\n",
    "    dw = 1./size[0]\n",
    "    dh = 1./size[1]\n",
    "    x = (box[0] + box[2])/2.0\n",
    "    y = (box[1] + box[3])/2.0\n",
    "    w = box[2] - box[0]\n",
    "    h = box[3] - box[1]\n",
    "    x = x*dw\n",
    "    w = w*dw\n",
    "    y = y*dh\n",
    "    h = h*dh\n",
    "    return (x,y,w,h)\n",
    "\n",
    "# Parse xml data and extract boxes\n",
    "def xml2df(ann_dir, save_df_to_path, classes):\n",
    "    \"\"\"\n",
    "    ann_dir - annotation xml file directory\n",
    "    classes - object class array \n",
    "    save_df_to_path - the directory path where you save dataframe to\n",
    "    \"\"\"\n",
    "    boxes = []\n",
    "    for filename in glob.iglob(ann_dir +'*.xml'):\n",
    "        with open(filename) as in_file:\n",
    "            xml_tree = ET.parse(in_file)\n",
    "            root = xml_tree.getroot()\n",
    "            size = root.find('size')\n",
    "            width = int(size.find('width').text)\n",
    "            height = int(size.find('height').text)\n",
    "        \n",
    "            for obj in root.iter('object'):\n",
    "                difficult = obj.find('difficult').text\n",
    "                label = obj.find('name').text\n",
    "                if label not in classes or int(difficult) == 1:  # exclude difficult or unlisted classes\n",
    "                    continue\n",
    "                xml_box = obj.find('bndbox')\n",
    "                bbox = (int(xml_box.find('xmin').text),\n",
    "                        int(xml_box.find('ymin').text), \n",
    "                        int(xml_box.find('xmax').text),\n",
    "                        int(xml_box.find('ymax').text))\n",
    "            \n",
    "                bbox_converted = convert((width, height), bbox) # convert coords to ratios\n",
    "                bbox_c = (os.path.splitext(os.path.basename(in_file.name))[0], classes.index(label)) + bbox_converted\n",
    "                \n",
    "                boxes.append(list(bbox_c))\n",
    "                \n",
    "    boxes_df = pd.DataFrame(boxes, columns=['fname', 'label', 'x', 'y', 'w', 'h']) \n",
    "    boxes_df.to_csv(save_df_to_path) # save to csv \n",
    "        \n",
    "    return boxes_df"
   ]
  },
  {
   "cell_type": "code",
   "execution_count": 6,
   "metadata": {},
   "outputs": [],
   "source": [
    "# List all the object classes\n",
    "classes = [\"aeroplane\", \"bicycle\", \"bird\", \"boat\", \"bottle\", \"bus\", \"car\", \"cat\",\n",
    "           \"chair\", \"cow\", \"diningtable\", \"dog\", \"horse\", \"motorbike\", \"person\",\n",
    "           \"pottedplant\", \"sheep\", \"sofa\", \"train\", \"tvmonitor\"]\n",
    "\n",
    "save_df_to_path = ann_dir + 'anno_converted.csv'\n",
    "boxes_df = xml2df(ann_dir, save_df_to_path, classes)"
   ]
  },
  {
   "cell_type": "code",
   "execution_count": 7,
   "metadata": {},
   "outputs": [
    {
     "data": {
      "text/plain": [
       "(12608, 6)"
      ]
     },
     "execution_count": 7,
     "metadata": {},
     "output_type": "execute_result"
    }
   ],
   "source": [
    "boxes_df.shape"
   ]
  },
  {
   "cell_type": "code",
   "execution_count": 8,
   "metadata": {},
   "outputs": [],
   "source": [
    "box_wh_df = boxes_df.iloc[:, 4:]"
   ]
  },
  {
   "cell_type": "code",
   "execution_count": 9,
   "metadata": {},
   "outputs": [
    {
     "data": {
      "text/plain": [
       "<matplotlib.collections.PathCollection at 0x1125d3198>"
      ]
     },
     "execution_count": 9,
     "metadata": {},
     "output_type": "execute_result"
    },
    {
     "data": {
      "image/png": "[encoded data removed]",
      "text/plain": [
       "<matplotlib.figure.Figure at 0x1124255c0>"
      ]
     },
     "metadata": {},
     "output_type": "display_data"
    }
   ],
   "source": [
    "plt.scatter(box_wh_df['w'][:100,], box_wh_df['h'][:100,], s=0.5)"
   ]
  },
  {
   "cell_type": "code",
   "execution_count": 10,
   "metadata": {
    "collapsed": true
   },
   "outputs": [],
   "source": [
    "def IOU_kmeans(x, centroids):\n",
    "    \"\"\"\n",
    "    x - [w, h] sample\n",
    "    centroids - 5by2 centroid array\n",
    "    \"\"\"\n",
    "    IOUs = []\n",
    "    k = len(centroids)\n",
    "    \n",
    "    for centroid in centroids:\n",
    "        c_w, c_h = centroid\n",
    "        w, h = x\n",
    "        inter_area = np.minimum(c_w, w) * np.minimum(c_h, h)\n",
    "        union_area = c_w*c_h + w*h - inter_area\n",
    "        iou = inter_area/union_area\n",
    "        IOUs.append(iou) # will become (k,) shape\n",
    "    return np.array(IOUs)"
   ]
  },
  {
   "cell_type": "code",
   "execution_count": 11,
   "metadata": {},
   "outputs": [
    {
     "data": {
      "text/plain": [
       "array([ 0.9574234 ,  0.92930482,  0.59275011,  0.76603247,  0.82399253])"
      ]
     },
     "execution_count": 11,
     "metadata": {},
     "output_type": "execute_result"
    }
   ],
   "source": [
    "# Example\n",
    "centroids = np.random.uniform(0,1,(5,2))\n",
    "x = (0.480000, 0.149333)\n",
    "ious = IOU_kmeans(x, centroids)\n",
    "dis = 1 - ious\n",
    "dis"
   ]
  },
  {
   "cell_type": "code",
   "execution_count": 14,
   "metadata": {
    "collapsed": true
   },
   "outputs": [],
   "source": [
    "def do_kmeans(X, centroids, N_iterations):\n",
    "    \"\"\"\n",
    "    X - sample array (box w & h)\n",
    "    centroids - centroid array\n",
    "    eps - loss convergence threshold\n",
    "    \"\"\"\n",
    "    # Initialize\n",
    "    N = X.shape[0]\n",
    "    iterations = 0\n",
    "    k, dim = centroids.shape\n",
    "    prev_assignments = np.ones(N)*(-1)    \n",
    "    old_D = np.zeros((N,k))\n",
    "    loss = 0\n",
    "    Losses = []\n",
    "\n",
    "    while True:\n",
    "        Dis = [] # distance array\n",
    "        iterations += 1           \n",
    "        for i in range(N):\n",
    "            dis = 1 - IOU_kmeans(X.iloc[i, :], centroids)\n",
    "            Dis.append(dis)\n",
    "        Dis = np.array(Dis) # D.shape = (N,k)\n",
    "        \n",
    "        #assign samples to centroids \n",
    "        assignments = np.argmin(Dis, axis=1)\n",
    "        loss = sum(np.amin(Dis, axis=1))\n",
    "        print(\"iter {}: loss = {}\".format(iterations, loss))\n",
    "        Losses.append(loss)\n",
    "        \n",
    "        if (assignments == prev_assignments).all() or iterations > N_iterations:\n",
    "            print('K-means clustering Done')\n",
    "            print(\"Centroids = \", centroids)            \n",
    "            return (centroids, assignments, Losses)\n",
    "\n",
    "        # Calculate new centroids\n",
    "        centroid_sums = np.zeros((k,dim), np.float)\n",
    "        for i in range(N):\n",
    "            centroid_sums[assignments[i]] += X.iloc[i, :]   \n",
    "        #print(centroid_sums)\n",
    "        \n",
    "        for j in range(k):            \n",
    "            centroids[j] = centroid_sums[j]/(np.sum(assignments==j))\n",
    "        \n",
    "        prev_assignments = assignments.copy()     \n",
    "        old_D = Dis.copy() \n",
    "\n",
    "        \n",
    "def plot_kmeans_clustering(X, centroids, assignments):\n",
    "    plt.scatter(X[:, 0], X[:, 1], c=assignments, s=0.5, cmap='viridis')\n",
    "    plt.scatter(centroids[:, 0], centroids[:, 1], c='black', s=10, alpha=0.5)\n"
   ]
  },
  {
   "cell_type": "code",
   "execution_count": 15,
   "metadata": {},
   "outputs": [
    {
     "name": "stdout",
     "output_type": "stream",
     "text": [
      "iter 1: loss = 55.259343265762595\n",
      "iter 2: loss = 38.78541221454303\n",
      "iter 3: loss = 37.02224049352779\n",
      "iter 4: loss = 36.444480071275834\n",
      "iter 5: loss = 35.844217530636115\n",
      "iter 6: loss = 35.882983828592785\n",
      "iter 7: loss = 35.913422672948634\n",
      "K-means clustering Done\n",
      "Centroids =  [[ 0.186       0.28219404]\n",
      " [ 0.08325862  0.11318105]\n",
      " [ 0.73036349  0.83396637]\n",
      " [ 0.78802028  0.47227644]\n",
      " [ 0.31037055  0.52705856]]\n"
     ]
    },
    {
     "data": {
      "image/png": "[encoded data removed]",
      "text/plain": [
       "<matplotlib.figure.Figure at 0x11249d940>"
      ]
     },
     "metadata": {},
     "output_type": "display_data"
    }
   ],
   "source": [
    "centroids = np.random.uniform(0,1,(5,2))\n",
    "N_iterations = 100\n",
    "centroids, assignments, Losses = do_kmeans(box_wh_df.iloc[:100, :], centroids, N_iterations)\n",
    "plot_kmeans_clustering(np.array(box_wh_df.iloc[:100, :]), centroids, assignments)"
   ]
  },
  {
   "cell_type": "code",
   "execution_count": 143,
   "metadata": {
    "collapsed": true
   },
   "outputs": [],
   "source": [
    "# TODO\n",
    "def init_centroids(boxes, K):\n",
    "    '''\n",
    "    Using K_means++ to initialize centroids\n",
    "    boxes - input box df\n",
    "    K - number of clusters\n",
    "    ''' \n",
    "    \n",
    "    boxes_num = len(boxes)\n",
    "\n",
    "    centroid_index = np.random.choice(boxes_num, 1)\n",
    "    centroids = [boxes[centroid_index,'w'], boxes[centroid_index,'h']]\n",
    "    print(centroids)\n",
    "\n",
    "    for centroid_index in range(0,K-1):\n",
    "\n",
    "        sum_distance = 0\n",
    "        distance_thresh = 0\n",
    "        distance_list = []\n",
    "        cur_sum = 0\n",
    "\n",
    "        for box in boxes:\n",
    "            distances = 1 - IOU_kmeans(box, centroids)\n",
    "            min_distance = np.minimum(distances)\n",
    "            sum_distance += min_distance\n",
    "            distance_list.append(min_distance)\n",
    "\n",
    "        distance_thresh = sum_distance*np.random.random()\n",
    "\n",
    "        for i in range(0, boxes_num):\n",
    "            cur_sum += distance_list[i]\n",
    "            if cur_sum > distance_thresh:\n",
    "                centroids.append(boxes[i])\n",
    "                print(boxes[i,0], boxes[i,1])\n",
    "                break\n",
    "\n",
    "    return centroids\n"
   ]
  },
  {
   "cell_type": "code",
   "execution_count": 148,
   "metadata": {},
   "outputs": [
    {
     "name": "stdout",
     "output_type": "stream",
     "text": [
      "[[ 0.19868996  0.298     ]]\n"
     ]
    }
   ],
   "source": [
    "#init_centroids(box_wh_df.iloc[:100, :], K=5)\n",
    "\n",
    "boxes_num = len(box_wh_df)\n",
    "\n",
    "centroid_index = np.random.choice(boxes_num, 1)\n",
    "centroids = np.array(box_wh_df)[centroid_index,:]\n",
    "print(centroids)"
   ]
  },
  {
   "cell_type": "code",
   "execution_count": null,
   "metadata": {
    "collapsed": true
   },
   "outputs": [],
   "source": []
  }
 ],
 "metadata": {
  "kernelspec": {
   "display_name": "Python 3",
   "language": "python",
   "name": "python3"
  },
  "language_info": {
   "codemirror_mode": {
    "name": "ipython",
    "version": 3
   },
   "file_extension": ".py",
   "mimetype": "text/x-python",
   "name": "python",
   "nbconvert_exporter": "python",
   "pygments_lexer": "ipython3",
   "version": "3.5.4"
  }
 },
 "nbformat": 4,
 "nbformat_minor": 2
}
